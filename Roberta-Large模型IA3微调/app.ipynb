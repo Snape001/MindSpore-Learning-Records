{
 "cells": [
  {
   "cell_type": "code",
   "execution_count": 7,
   "metadata": {},
   "outputs": [
    {
     "name": "stdout",
     "output_type": "stream",
     "text": [
      "Collecting git+https://gitee.com/mindspore-lab/mindnlp.git@master\n",
      "  Cloning https://gitee.com/mindspore-lab/mindnlp.git (to revision master) to /tmp/pip-req-build-oy4yu1b5\n",
      "  Running command git clone --filter=blob:none --quiet https://gitee.com/mindspore-lab/mindnlp.git /tmp/pip-req-build-oy4yu1b5\n",
      "  Resolved https://gitee.com/mindspore-lab/mindnlp.git to commit 95f0253a0f03091b2cf88328d1bbd5de10b8aebf\n",
      "  Preparing metadata (setup.py) ... \u001b[?25ldone\n",
      "\u001b[?25hRequirement already satisfied: mindspore>=2.2.14 in ./miniconda3/envs/mindspore_py39/lib/python3.9/site-packages (from mindnlp==0.4.1) (2.4.10)\n",
      "Requirement already satisfied: tqdm in ./miniconda3/envs/mindspore_py39/lib/python3.9/site-packages (from mindnlp==0.4.1) (4.67.1)\n",
      "Requirement already satisfied: requests in ./miniconda3/envs/mindspore_py39/lib/python3.9/site-packages (from mindnlp==0.4.1) (2.32.3)\n",
      "Requirement already satisfied: datasets in ./miniconda3/envs/mindspore_py39/lib/python3.9/site-packages (from mindnlp==0.4.1) (3.2.0)\n",
      "Requirement already satisfied: evaluate in ./miniconda3/envs/mindspore_py39/lib/python3.9/site-packages (from mindnlp==0.4.1) (0.4.3)\n",
      "Requirement already satisfied: tokenizers==0.19.1 in ./miniconda3/envs/mindspore_py39/lib/python3.9/site-packages (from mindnlp==0.4.1) (0.19.1)\n",
      "Requirement already satisfied: safetensors in ./miniconda3/envs/mindspore_py39/lib/python3.9/site-packages (from mindnlp==0.4.1) (0.5.2)\n",
      "Requirement already satisfied: sentencepiece in ./miniconda3/envs/mindspore_py39/lib/python3.9/site-packages (from mindnlp==0.4.1) (0.2.0)\n",
      "Requirement already satisfied: regex in ./miniconda3/envs/mindspore_py39/lib/python3.9/site-packages (from mindnlp==0.4.1) (2024.11.6)\n",
      "Requirement already satisfied: addict in ./miniconda3/envs/mindspore_py39/lib/python3.9/site-packages (from mindnlp==0.4.1) (2.4.0)\n",
      "Requirement already satisfied: ml_dtypes in ./miniconda3/envs/mindspore_py39/lib/python3.9/site-packages (from mindnlp==0.4.1) (0.5.1)\n",
      "Requirement already satisfied: pyctcdecode in ./miniconda3/envs/mindspore_py39/lib/python3.9/site-packages (from mindnlp==0.4.1) (0.5.0)\n",
      "Requirement already satisfied: pytest==7.2.0 in ./miniconda3/envs/mindspore_py39/lib/python3.9/site-packages (from mindnlp==0.4.1) (7.2.0)\n",
      "Requirement already satisfied: pillow>=10.0.0 in ./miniconda3/envs/mindspore_py39/lib/python3.9/site-packages (from mindnlp==0.4.1) (10.4.0)\n",
      "Requirement already satisfied: attrs>=19.2.0 in ./miniconda3/envs/mindspore_py39/lib/python3.9/site-packages (from pytest==7.2.0->mindnlp==0.4.1) (24.3.0)\n",
      "Requirement already satisfied: iniconfig in ./miniconda3/envs/mindspore_py39/lib/python3.9/site-packages (from pytest==7.2.0->mindnlp==0.4.1) (2.0.0)\n",
      "Requirement already satisfied: packaging in ./miniconda3/envs/mindspore_py39/lib/python3.9/site-packages (from pytest==7.2.0->mindnlp==0.4.1) (24.2)\n",
      "Requirement already satisfied: pluggy<2.0,>=0.12 in ./miniconda3/envs/mindspore_py39/lib/python3.9/site-packages (from pytest==7.2.0->mindnlp==0.4.1) (1.5.0)\n",
      "Requirement already satisfied: exceptiongroup>=1.0.0rc8 in ./miniconda3/envs/mindspore_py39/lib/python3.9/site-packages (from pytest==7.2.0->mindnlp==0.4.1) (1.2.2)\n",
      "Requirement already satisfied: tomli>=1.0.0 in ./miniconda3/envs/mindspore_py39/lib/python3.9/site-packages (from pytest==7.2.0->mindnlp==0.4.1) (2.2.1)\n",
      "Requirement already satisfied: huggingface-hub<1.0,>=0.16.4 in ./miniconda3/envs/mindspore_py39/lib/python3.9/site-packages (from tokenizers==0.19.1->mindnlp==0.4.1) (0.27.1)\n",
      "Requirement already satisfied: numpy<2.0.0,>=1.20.0 in ./miniconda3/envs/mindspore_py39/lib/python3.9/site-packages (from mindspore>=2.2.14->mindnlp==0.4.1) (1.26.4)\n",
      "Requirement already satisfied: protobuf>=3.13.0 in ./miniconda3/envs/mindspore_py39/lib/python3.9/site-packages (from mindspore>=2.2.14->mindnlp==0.4.1) (5.29.3)\n",
      "Requirement already satisfied: asttokens>=2.0.4 in ./miniconda3/envs/mindspore_py39/lib/python3.9/site-packages (from mindspore>=2.2.14->mindnlp==0.4.1) (3.0.0)\n",
      "Requirement already satisfied: scipy>=1.5.4 in ./miniconda3/envs/mindspore_py39/lib/python3.9/site-packages (from mindspore>=2.2.14->mindnlp==0.4.1) (1.13.1)\n",
      "Requirement already satisfied: psutil>=5.6.1 in ./miniconda3/envs/mindspore_py39/lib/python3.9/site-packages (from mindspore>=2.2.14->mindnlp==0.4.1) (5.9.0)\n",
      "Requirement already satisfied: astunparse>=1.6.3 in ./miniconda3/envs/mindspore_py39/lib/python3.9/site-packages (from mindspore>=2.2.14->mindnlp==0.4.1) (1.6.3)\n",
      "Requirement already satisfied: filelock in ./miniconda3/envs/mindspore_py39/lib/python3.9/site-packages (from datasets->mindnlp==0.4.1) (3.17.0)\n",
      "Requirement already satisfied: pyarrow>=15.0.0 in ./miniconda3/envs/mindspore_py39/lib/python3.9/site-packages (from datasets->mindnlp==0.4.1) (19.0.0)\n",
      "Requirement already satisfied: dill<0.3.9,>=0.3.0 in ./miniconda3/envs/mindspore_py39/lib/python3.9/site-packages (from datasets->mindnlp==0.4.1) (0.3.8)\n",
      "Requirement already satisfied: pandas in ./miniconda3/envs/mindspore_py39/lib/python3.9/site-packages (from datasets->mindnlp==0.4.1) (2.2.3)\n",
      "Requirement already satisfied: xxhash in ./miniconda3/envs/mindspore_py39/lib/python3.9/site-packages (from datasets->mindnlp==0.4.1) (3.5.0)\n",
      "Requirement already satisfied: multiprocess<0.70.17 in ./miniconda3/envs/mindspore_py39/lib/python3.9/site-packages (from datasets->mindnlp==0.4.1) (0.70.16)\n",
      "Requirement already satisfied: fsspec<=2024.9.0,>=2023.1.0 in ./miniconda3/envs/mindspore_py39/lib/python3.9/site-packages (from fsspec[http]<=2024.9.0,>=2023.1.0->datasets->mindnlp==0.4.1) (2024.9.0)\n",
      "Requirement already satisfied: aiohttp in ./miniconda3/envs/mindspore_py39/lib/python3.9/site-packages (from datasets->mindnlp==0.4.1) (3.11.11)\n",
      "Requirement already satisfied: pyyaml>=5.1 in ./miniconda3/envs/mindspore_py39/lib/python3.9/site-packages (from datasets->mindnlp==0.4.1) (6.0.2)\n",
      "Requirement already satisfied: charset-normalizer<4,>=2 in ./miniconda3/envs/mindspore_py39/lib/python3.9/site-packages (from requests->mindnlp==0.4.1) (3.4.1)\n",
      "Requirement already satisfied: idna<4,>=2.5 in ./miniconda3/envs/mindspore_py39/lib/python3.9/site-packages (from requests->mindnlp==0.4.1) (3.10)\n",
      "Requirement already satisfied: urllib3<3,>=1.21.1 in ./miniconda3/envs/mindspore_py39/lib/python3.9/site-packages (from requests->mindnlp==0.4.1) (2.3.0)\n",
      "Requirement already satisfied: certifi>=2017.4.17 in ./miniconda3/envs/mindspore_py39/lib/python3.9/site-packages (from requests->mindnlp==0.4.1) (2024.12.14)\n",
      "Requirement already satisfied: pygtrie<3.0,>=2.1 in ./miniconda3/envs/mindspore_py39/lib/python3.9/site-packages (from pyctcdecode->mindnlp==0.4.1) (2.5.0)\n",
      "Requirement already satisfied: hypothesis<7,>=6.14 in ./miniconda3/envs/mindspore_py39/lib/python3.9/site-packages (from pyctcdecode->mindnlp==0.4.1) (6.124.2)\n",
      "Requirement already satisfied: wheel<1.0,>=0.23.0 in ./miniconda3/envs/mindspore_py39/lib/python3.9/site-packages (from astunparse>=1.6.3->mindspore>=2.2.14->mindnlp==0.4.1) (0.44.0)\n",
      "Requirement already satisfied: six<2.0,>=1.6.1 in ./miniconda3/envs/mindspore_py39/lib/python3.9/site-packages (from astunparse>=1.6.3->mindspore>=2.2.14->mindnlp==0.4.1) (1.17.0)\n",
      "Requirement already satisfied: aiohappyeyeballs>=2.3.0 in ./miniconda3/envs/mindspore_py39/lib/python3.9/site-packages (from aiohttp->datasets->mindnlp==0.4.1) (2.4.4)\n",
      "Requirement already satisfied: aiosignal>=1.1.2 in ./miniconda3/envs/mindspore_py39/lib/python3.9/site-packages (from aiohttp->datasets->mindnlp==0.4.1) (1.3.2)\n",
      "Requirement already satisfied: async-timeout<6.0,>=4.0 in ./miniconda3/envs/mindspore_py39/lib/python3.9/site-packages (from aiohttp->datasets->mindnlp==0.4.1) (5.0.1)\n",
      "Requirement already satisfied: frozenlist>=1.1.1 in ./miniconda3/envs/mindspore_py39/lib/python3.9/site-packages (from aiohttp->datasets->mindnlp==0.4.1) (1.5.0)\n",
      "Requirement already satisfied: multidict<7.0,>=4.5 in ./miniconda3/envs/mindspore_py39/lib/python3.9/site-packages (from aiohttp->datasets->mindnlp==0.4.1) (6.1.0)\n",
      "Requirement already satisfied: propcache>=0.2.0 in ./miniconda3/envs/mindspore_py39/lib/python3.9/site-packages (from aiohttp->datasets->mindnlp==0.4.1) (0.2.1)\n",
      "Requirement already satisfied: yarl<2.0,>=1.17.0 in ./miniconda3/envs/mindspore_py39/lib/python3.9/site-packages (from aiohttp->datasets->mindnlp==0.4.1) (1.18.3)\n",
      "Requirement already satisfied: typing-extensions>=3.7.4.3 in ./miniconda3/envs/mindspore_py39/lib/python3.9/site-packages (from huggingface-hub<1.0,>=0.16.4->tokenizers==0.19.1->mindnlp==0.4.1) (4.12.2)\n",
      "Requirement already satisfied: sortedcontainers<3.0.0,>=2.1.0 in ./miniconda3/envs/mindspore_py39/lib/python3.9/site-packages (from hypothesis<7,>=6.14->pyctcdecode->mindnlp==0.4.1) (2.4.0)\n",
      "Requirement already satisfied: python-dateutil>=2.8.2 in ./miniconda3/envs/mindspore_py39/lib/python3.9/site-packages (from pandas->datasets->mindnlp==0.4.1) (2.9.0.post0)\n",
      "Requirement already satisfied: pytz>=2020.1 in ./miniconda3/envs/mindspore_py39/lib/python3.9/site-packages (from pandas->datasets->mindnlp==0.4.1) (2024.2)\n",
      "Requirement already satisfied: tzdata>=2022.7 in ./miniconda3/envs/mindspore_py39/lib/python3.9/site-packages (from pandas->datasets->mindnlp==0.4.1) (2025.1)\n",
      "Building wheels for collected packages: mindnlp\n",
      "  Building wheel for mindnlp (setup.py) ... \u001b[?25ldone\n",
      "\u001b[?25h  Created wheel for mindnlp: filename=mindnlp-0.4.1-py3-none-any.whl size=8702379 sha256=e31709b04ef894a6142703b68082c6e8bed61655d153d437a0685a92c9d31230\n",
      "  Stored in directory: /tmp/pip-ephem-wheel-cache-391eksf7/wheels/48/6f/01/481d9cc3fc1b06959e0d577c06b7f1e45664f21d0cd09cb425\n",
      "Successfully built mindnlp\n",
      "Installing collected packages: mindnlp\n",
      "  Attempting uninstall: mindnlp\n",
      "    Found existing installation: mindnlp 0.4.0\n",
      "    Uninstalling mindnlp-0.4.0:\n",
      "      Successfully uninstalled mindnlp-0.4.0\n",
      "Successfully installed mindnlp-0.4.1\n"
     ]
    }
   ],
   "source": [
    "!pip install git+https://gitee.com/mindspore-lab/mindnlp.git@master"
   ]
  },
  {
   "cell_type": "code",
   "execution_count": 1,
   "metadata": {},
   "outputs": [
    {
     "name": "stdout",
     "output_type": "stream",
     "text": [
      "Name: mindnlp\n",
      "Version: 0.4.1\n",
      "Summary: An open source natural language processing research tool box. Git version: [sha1]:95f0253a, [branch]: (HEAD -> master, origin/master, origin/HEAD)\n",
      "Home-page: https://github.com/mindlab-ai/mindnlp/tree/master/\n",
      "Author: MindSpore Team\n",
      "Author-email: \n",
      "License: Apache 2.0\n",
      "Location: /home/snape/miniconda3/envs/mindspore_py39/lib/python3.9/site-packages\n",
      "Requires: addict, datasets, evaluate, mindspore, ml-dtypes, pillow, pyctcdecode, pytest, regex, requests, safetensors, sentencepiece, tokenizers, tqdm\n",
      "Required-by: \n",
      "Note: you may need to restart the kernel to use updated packages.\n"
     ]
    }
   ],
   "source": [
    "pip show mindnlp"
   ]
  },
  {
   "cell_type": "code",
   "execution_count": 13,
   "metadata": {},
   "outputs": [],
   "source": [
    "import gradio as gr\n",
    "import mindspore\n",
    "from mindnlp.transformers import AutoModelForSequenceClassification, AutoTokenizer\n",
    "from mindnlp.peft import PeftModel, IA3Config"
   ]
  },
  {
   "cell_type": "code",
   "execution_count": 7,
   "metadata": {},
   "outputs": [
    {
     "name": "stdout",
     "output_type": "stream",
     "text": [
      "[MS_ALLOC_CONF]Runtime config:  enable_vmm:True  vmm_align_size:2MB\n"
     ]
    },
    {
     "name": "stderr",
     "output_type": "stream",
     "text": [
      "Some weights of RobertaForSequenceClassification were not initialized from the model checkpoint at /home/snape/ and are newly initialized: ['classifier.dense.bias', 'classifier.dense.weight', 'classifier.out_proj.bias', 'classifier.out_proj.weight']\n",
      "You should probably TRAIN this model on a down-stream task to be able to use it for predictions and inference.\n",
      "100%|██████████| 878k/878k [00:00<00:00, 2.46MB/s]\n",
      "100%|██████████| 446k/446k [00:00<00:00, 1.67MB/s]\n",
      "100%|██████████| 1.29M/1.29M [00:00<00:00, 2.15MB/s]\n",
      "/home/snape/miniconda3/envs/mindspore_py39/lib/python3.9/site-packages/mindnlp/transformers/tokenization_utils_base.py:1526: FutureWarning: `clean_up_tokenization_spaces` was not set. It will be set to `True` by default. This behavior will be depracted, and will be then set to `False` by default. \n",
      "  warnings.warn(\n"
     ]
    }
   ],
   "source": [
    "import os\n",
    "\n",
    "config = IA3Config.from_pretrained(\"/home/snape/roberta-large_IA3_SEQ_CLS\")\n",
    "model = AutoModelForSequenceClassification.from_pretrained(\"/home/snape/\", local_files_only=True)\n",
    "model = PeftModel.from_pretrained(model, \"/home/snape/roberta-large_IA3_SEQ_CLS\")\n",
    "tokenizer = AutoTokenizer.from_pretrained(\"AI-ModelScope/roberta-large\", padding_side=\"right\", mirror='modelscope')"
   ]
  },
  {
   "cell_type": "code",
   "execution_count": 12,
   "metadata": {},
   "outputs": [],
   "source": [
    "from mindspore import Tensor\n",
    "\n",
    "def predict(sentence1, sentence2):\n",
    "    inputs = tokenizer(sentence1, sentence2, truncation=True, padding=True, max_length=128, return_tensors=\"ms\")\n",
    "    outputs = model(Tensor(inputs['input_ids']), Tensor(inputs['attention_mask']))\n",
    "    logits = outputs.logits\n",
    "    prediction = logits.argmax(axis=-1).asnumpy()[0]\n",
    "\n",
    "    if prediction == 1:\n",
    "        return \"同义\"\n",
    "    else:\n",
    "        return \"不同义\""
   ]
  },
  {
   "cell_type": "code",
   "execution_count": 11,
   "metadata": {},
   "outputs": [
    {
     "name": "stdout",
     "output_type": "stream",
     "text": [
      "Running on local URL:  http://127.0.0.1:7862\n",
      "Running on public URL: https://2801667f72a8905226.gradio.live\n",
      "\n",
      "This share link expires in 72 hours. For free permanent hosting and GPU upgrades, run `gradio deploy` from Terminal to deploy to Spaces (https://huggingface.co/spaces)\n"
     ]
    },
    {
     "data": {
      "text/html": [
       "<div><iframe src=\"https://2801667f72a8905226.gradio.live\" width=\"100%\" height=\"500\" allow=\"autoplay; camera; microphone; clipboard-read; clipboard-write;\" frameborder=\"0\" allowfullscreen></iframe></div>"
      ],
      "text/plain": [
       "<IPython.core.display.HTML object>"
      ]
     },
     "metadata": {},
     "output_type": "display_data"
    },
    {
     "data": {
      "text/plain": []
     },
     "execution_count": 11,
     "metadata": {},
     "output_type": "execute_result"
    }
   ],
   "source": [
    "app = gr.Interface(fn=predict,\n",
    "                     inputs=[\"text\", \"text\"],\n",
    "                     outputs=\"text\",\n",
    "                     title=\"文本分类模型\",\n",
    "                     description=\"请输入两个句子进行分类，判断它们是否同义\")\n",
    "\n",
    "app.launch(share=True)"
   ]
  }
 ],
 "metadata": {
  "kernelspec": {
   "display_name": "mindspore_py39",
   "language": "python",
   "name": "python3"
  },
  "language_info": {
   "codemirror_mode": {
    "name": "ipython",
    "version": 3
   },
   "file_extension": ".py",
   "mimetype": "text/x-python",
   "name": "python",
   "nbconvert_exporter": "python",
   "pygments_lexer": "ipython3",
   "version": "3.9.11"
  }
 },
 "nbformat": 4,
 "nbformat_minor": 2
}
